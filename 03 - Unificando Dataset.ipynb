{
 "cells": [
  {
   "cell_type": "code",
   "execution_count": 1,
   "id": "39ec2f60",
   "metadata": {},
   "outputs": [],
   "source": [
    "import pandas as pd\n",
    "import os\n",
    "import glob\n",
    "from datetime import datetime"
   ]
  },
  {
   "cell_type": "code",
   "execution_count": 2,
   "id": "c8125ecc",
   "metadata": {},
   "outputs": [
    {
     "name": "stdout",
     "output_type": "stream",
     "text": [
      "['C:\\\\Users\\\\roger\\\\OneDrive\\\\02. Estudo\\\\01. MBA\\\\TCC\\\\Scripts\\\\TweetsTratados.csv', 'C:\\\\Users\\\\roger\\\\OneDrive\\\\02. Estudo\\\\01. MBA\\\\TCC\\\\Scripts\\\\TweetsTratados20220206.csv', 'C:\\\\Users\\\\roger\\\\OneDrive\\\\02. Estudo\\\\01. MBA\\\\TCC\\\\Scripts\\\\TweetsTratados20220214_203940.csv', 'C:\\\\Users\\\\roger\\\\OneDrive\\\\02. Estudo\\\\01. MBA\\\\TCC\\\\Scripts\\\\TweetsTratados20220217_104338.csv', 'C:\\\\Users\\\\roger\\\\OneDrive\\\\02. Estudo\\\\01. MBA\\\\TCC\\\\Scripts\\\\TweetsTratados20220221_133442.csv']\n"
     ]
    }
   ],
   "source": [
    "path = os.getcwd()\n",
    "\n",
    "all_files = glob.glob(os.path.join(path, \"TweetsTratados*.csv\"))     # advisable to use os.path.join as this makes concatenation OS independent\n",
    "print(all_files)\n",
    "\n",
    "\n",
    "#Juntando os arquivos em dataframe\n",
    "li = []\n",
    "\n",
    "for filename in all_files:\n",
    "    df = pd.read_csv(filename, index_col=None, header=0)\n",
    "    li.append(df)\n",
    "\n",
    "frame = pd.concat(li, axis=0, ignore_index=True)\n",
    "\n",
    "qtd_old = len(frame.text)"
   ]
  },
  {
   "cell_type": "code",
   "execution_count": 3,
   "id": "988bd2a2",
   "metadata": {},
   "outputs": [
    {
     "data": {
      "text/html": [
       "<div>\n",
       "<style scoped>\n",
       "    .dataframe tbody tr th:only-of-type {\n",
       "        vertical-align: middle;\n",
       "    }\n",
       "\n",
       "    .dataframe tbody tr th {\n",
       "        vertical-align: top;\n",
       "    }\n",
       "\n",
       "    .dataframe thead th {\n",
       "        text-align: right;\n",
       "    }\n",
       "</style>\n",
       "<table border=\"1\" class=\"dataframe\">\n",
       "  <thead>\n",
       "    <tr style=\"text-align: right;\">\n",
       "      <th></th>\n",
       "      <th>Unnamed: 0</th>\n",
       "      <th>text</th>\n",
       "    </tr>\n",
       "  </thead>\n",
       "  <tbody>\n",
       "    <tr>\n",
       "      <th>0</th>\n",
       "      <td>0</td>\n",
       "      <td>Como instalar o Windows 11 mesmo sem TPM 2.0 n...</td>\n",
       "    </tr>\n",
       "    <tr>\n",
       "      <th>1</th>\n",
       "      <td>1</td>\n",
       "      <td>🚨 VALE A ATENÇÃO:\\n\\nUma atualização falsa par...</td>\n",
       "    </tr>\n",
       "    <tr>\n",
       "      <th>2</th>\n",
       "      <td>2</td>\n",
       "      <td>Windows 11 está uma merda</td>\n",
       "    </tr>\n",
       "    <tr>\n",
       "      <th>3</th>\n",
       "      <td>3</td>\n",
       "      <td>depois que atualizei pro windows 11 nunca mais...</td>\n",
       "    </tr>\n",
       "    <tr>\n",
       "      <th>4</th>\n",
       "      <td>4</td>\n",
       "      <td>👍👍👍\\n\\nÓtimo preço parcelado! Com Ryzen 7!\\n\\n...</td>\n",
       "    </tr>\n",
       "    <tr>\n",
       "      <th>...</th>\n",
       "      <td>...</td>\n",
       "      <td>...</td>\n",
       "    </tr>\n",
       "    <tr>\n",
       "      <th>6950</th>\n",
       "      <td>1489</td>\n",
       "      <td>Como é gosto pegar uma maquina pra formatar de...</td>\n",
       "    </tr>\n",
       "    <tr>\n",
       "      <th>6951</th>\n",
       "      <td>1490</td>\n",
       "      <td>🌐 Android 13 transmitirá aplicativos do celula...</td>\n",
       "    </tr>\n",
       "    <tr>\n",
       "      <th>6952</th>\n",
       "      <td>1491</td>\n",
       "      <td>Pensando em migrar minha instalação atual do A...</td>\n",
       "    </tr>\n",
       "    <tr>\n",
       "      <th>6953</th>\n",
       "      <td>1492</td>\n",
       "      <td>Proteja seu computador com o Fort Firewall #fi...</td>\n",
       "    </tr>\n",
       "    <tr>\n",
       "      <th>6954</th>\n",
       "      <td>1493</td>\n",
       "      <td>Tenho um presente pra @windowsbr e @MicrosoftB...</td>\n",
       "    </tr>\n",
       "  </tbody>\n",
       "</table>\n",
       "<p>3928 rows × 2 columns</p>\n",
       "</div>"
      ],
      "text/plain": [
       "      Unnamed: 0                                               text\n",
       "0              0  Como instalar o Windows 11 mesmo sem TPM 2.0 n...\n",
       "1              1  🚨 VALE A ATENÇÃO:\\n\\nUma atualização falsa par...\n",
       "2              2                          Windows 11 está uma merda\n",
       "3              3  depois que atualizei pro windows 11 nunca mais...\n",
       "4              4  👍👍👍\\n\\nÓtimo preço parcelado! Com Ryzen 7!\\n\\n...\n",
       "...          ...                                                ...\n",
       "6950        1489  Como é gosto pegar uma maquina pra formatar de...\n",
       "6951        1490  🌐 Android 13 transmitirá aplicativos do celula...\n",
       "6952        1491  Pensando em migrar minha instalação atual do A...\n",
       "6953        1492  Proteja seu computador com o Fort Firewall #fi...\n",
       "6954        1493  Tenho um presente pra @windowsbr e @MicrosoftB...\n",
       "\n",
       "[3928 rows x 2 columns]"
      ]
     },
     "execution_count": 3,
     "metadata": {},
     "output_type": "execute_result"
    }
   ],
   "source": [
    "frame = frame.drop_duplicates(subset='text', keep='first')\n",
    "frame"
   ]
  },
  {
   "cell_type": "code",
   "execution_count": 4,
   "id": "357956aa",
   "metadata": {},
   "outputs": [
    {
     "name": "stdout",
     "output_type": "stream",
     "text": [
      "=============\n",
      "Qtd de arquivos processados: 5\n",
      "Qtd de tweets antes do processamento: 6972\n",
      "Qtd de tweets após do processamento: 3928\n",
      "=============\n"
     ]
    }
   ],
   "source": [
    "qtd_arq = len(li)\n",
    "qtd_new = len(frame.text)\n",
    "\n",
    "print('=============')\n",
    "print('Qtd de arquivos processados:', qtd_arq)\n",
    "print('Qtd de tweets antes do processamento:', qtd_old)\n",
    "print('Qtd de tweets após do processamento:', qtd_new)\n",
    "print('=============')"
   ]
  },
  {
   "cell_type": "code",
   "execution_count": 5,
   "id": "6208faa4",
   "metadata": {},
   "outputs": [],
   "source": [
    "# Resetando o índice\n",
    "frame = frame.reset_index()"
   ]
  },
  {
   "cell_type": "code",
   "execution_count": 6,
   "id": "d03154e2",
   "metadata": {},
   "outputs": [],
   "source": [
    "frame['text'].to_excel('teste.xlsx')"
   ]
  },
  {
   "cell_type": "code",
   "execution_count": 8,
   "id": "620554fe",
   "metadata": {},
   "outputs": [
    {
     "data": {
      "text/html": [
       "<div>\n",
       "<style scoped>\n",
       "    .dataframe tbody tr th:only-of-type {\n",
       "        vertical-align: middle;\n",
       "    }\n",
       "\n",
       "    .dataframe tbody tr th {\n",
       "        vertical-align: top;\n",
       "    }\n",
       "\n",
       "    .dataframe thead th {\n",
       "        text-align: right;\n",
       "    }\n",
       "</style>\n",
       "<table border=\"1\" class=\"dataframe\">\n",
       "  <thead>\n",
       "    <tr style=\"text-align: right;\">\n",
       "      <th></th>\n",
       "      <th>index</th>\n",
       "      <th>Unnamed: 0</th>\n",
       "      <th>text</th>\n",
       "    </tr>\n",
       "  </thead>\n",
       "  <tbody>\n",
       "    <tr>\n",
       "      <th>41</th>\n",
       "      <td>41</td>\n",
       "      <td>41</td>\n",
       "      <td>Para saber mais, acesse o Canaltech: https://t...</td>\n",
       "    </tr>\n",
       "    <tr>\n",
       "      <th>417</th>\n",
       "      <td>417</td>\n",
       "      <td>417</td>\n",
       "      <td>Para saber mais detalhes da atividade malicios...</td>\n",
       "    </tr>\n",
       "    <tr>\n",
       "      <th>967</th>\n",
       "      <td>967</td>\n",
       "      <td>967</td>\n",
       "      <td>Se Inscreva no Canal: https://t.co/03R9cdiTcQ ...</td>\n",
       "    </tr>\n",
       "    <tr>\n",
       "      <th>1429</th>\n",
       "      <td>1457</td>\n",
       "      <td>128</td>\n",
       "      <td>Se Inscreva no Canal: https://t.co/03R9cdiTcQ ...</td>\n",
       "    </tr>\n",
       "    <tr>\n",
       "      <th>1784</th>\n",
       "      <td>1814</td>\n",
       "      <td>485</td>\n",
       "      <td>Desde de seu lançamento, o #Windows 11 já apre...</td>\n",
       "    </tr>\n",
       "    <tr>\n",
       "      <th>3728</th>\n",
       "      <td>5975</td>\n",
       "      <td>514</td>\n",
       "      <td>Se Inscreva no Canal: https://t.co/03R9cdiTcQ ...</td>\n",
       "    </tr>\n",
       "  </tbody>\n",
       "</table>\n",
       "</div>"
      ],
      "text/plain": [
       "      index  Unnamed: 0                                               text\n",
       "41       41          41  Para saber mais, acesse o Canaltech: https://t...\n",
       "417     417         417  Para saber mais detalhes da atividade malicios...\n",
       "967     967         967  Se Inscreva no Canal: https://t.co/03R9cdiTcQ ...\n",
       "1429   1457         128  Se Inscreva no Canal: https://t.co/03R9cdiTcQ ...\n",
       "1784   1814         485  Desde de seu lançamento, o #Windows 11 já apre...\n",
       "3728   5975         514  Se Inscreva no Canal: https://t.co/03R9cdiTcQ ..."
      ]
     },
     "execution_count": 8,
     "metadata": {},
     "output_type": "execute_result"
    }
   ],
   "source": [
    "frame[frame.text.str.contains(\"Canal\", regex=False)]"
   ]
  },
  {
   "cell_type": "code",
   "execution_count": 12,
   "id": "2a8cd638",
   "metadata": {},
   "outputs": [
    {
     "data": {
      "text/html": [
       "<div>\n",
       "<style scoped>\n",
       "    .dataframe tbody tr th:only-of-type {\n",
       "        vertical-align: middle;\n",
       "    }\n",
       "\n",
       "    .dataframe tbody tr th {\n",
       "        vertical-align: top;\n",
       "    }\n",
       "\n",
       "    .dataframe thead th {\n",
       "        text-align: right;\n",
       "    }\n",
       "</style>\n",
       "<table border=\"1\" class=\"dataframe\">\n",
       "  <thead>\n",
       "    <tr style=\"text-align: right;\">\n",
       "      <th></th>\n",
       "      <th>index</th>\n",
       "      <th>Unnamed: 0</th>\n",
       "      <th>text</th>\n",
       "    </tr>\n",
       "  </thead>\n",
       "  <tbody>\n",
       "    <tr>\n",
       "      <th>1160</th>\n",
       "      <td>1160</td>\n",
       "      <td>1160</td>\n",
       "      <td>eu tinha uma mercedes w11 e agora trabalho com...</td>\n",
       "    </tr>\n",
       "    <tr>\n",
       "      <th>1259</th>\n",
       "      <td>1259</td>\n",
       "      <td>1259</td>\n",
       "      <td>se a mercedes voltar com uma parada pique W11 ...</td>\n",
       "    </tr>\n",
       "    <tr>\n",
       "      <th>2582</th>\n",
       "      <td>2616</td>\n",
       "      <td>1287</td>\n",
       "      <td>inclusive aquela entrevista da jamie falando q...</td>\n",
       "    </tr>\n",
       "    <tr>\n",
       "      <th>3199</th>\n",
       "      <td>5334</td>\n",
       "      <td>1329</td>\n",
       "      <td>@rocha_vinycius kkkkkk grita. Mas aí, tá ligad...</td>\n",
       "    </tr>\n",
       "    <tr>\n",
       "      <th>3850</th>\n",
       "      <td>6812</td>\n",
       "      <td>1351</td>\n",
       "      <td>@CurtiAntony Porra eu sou apaixonado no w11 e ...</td>\n",
       "    </tr>\n",
       "    <tr>\n",
       "      <th>3869</th>\n",
       "      <td>6831</td>\n",
       "      <td>1370</td>\n",
       "      <td>voltei apenas pra comentar que amei isso aqui\\...</td>\n",
       "    </tr>\n",
       "    <tr>\n",
       "      <th>3874</th>\n",
       "      <td>6836</td>\n",
       "      <td>1375</td>\n",
       "      <td>mercedes me mantendo em casa o dia todo pra ac...</td>\n",
       "    </tr>\n",
       "    <tr>\n",
       "      <th>3886</th>\n",
       "      <td>6848</td>\n",
       "      <td>1387</td>\n",
       "      <td>mercedes eu espero que você tenha construído u...</td>\n",
       "    </tr>\n",
       "  </tbody>\n",
       "</table>\n",
       "</div>"
      ],
      "text/plain": [
       "      index  Unnamed: 0                                               text\n",
       "1160   1160        1160  eu tinha uma mercedes w11 e agora trabalho com...\n",
       "1259   1259        1259  se a mercedes voltar com uma parada pique W11 ...\n",
       "2582   2616        1287  inclusive aquela entrevista da jamie falando q...\n",
       "3199   5334        1329  @rocha_vinycius kkkkkk grita. Mas aí, tá ligad...\n",
       "3850   6812        1351  @CurtiAntony Porra eu sou apaixonado no w11 e ...\n",
       "3869   6831        1370  voltei apenas pra comentar que amei isso aqui\\...\n",
       "3874   6836        1375  mercedes me mantendo em casa o dia todo pra ac...\n",
       "3886   6848        1387  mercedes eu espero que você tenha construído u..."
      ]
     },
     "execution_count": 12,
     "metadata": {},
     "output_type": "execute_result"
    }
   ],
   "source": [
    "frame[frame.text.str.contains(\"mercedes\", regex=False)]"
   ]
  },
  {
   "cell_type": "code",
   "execution_count": null,
   "id": "3aa302c0",
   "metadata": {},
   "outputs": [],
   "source": [
    "frame.loc[frame['text']=='Yes']"
   ]
  }
 ],
 "metadata": {
  "kernelspec": {
   "display_name": "Python 3 (ipykernel)",
   "language": "python",
   "name": "python3"
  },
  "language_info": {
   "codemirror_mode": {
    "name": "ipython",
    "version": 3
   },
   "file_extension": ".py",
   "mimetype": "text/x-python",
   "name": "python",
   "nbconvert_exporter": "python",
   "pygments_lexer": "ipython3",
   "version": "3.8.11"
  }
 },
 "nbformat": 4,
 "nbformat_minor": 5
}
